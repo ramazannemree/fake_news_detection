{
 "cells": [
  {
   "cell_type": "code",
   "execution_count": 1,
   "metadata": {},
   "outputs": [],
   "source": [
    "#!pip install snscrape"
   ]
  },
  {
   "cell_type": "code",
   "execution_count": 3,
   "metadata": {},
   "outputs": [],
   "source": [
    "#!pip install sklearn"
   ]
  },
  {
   "cell_type": "code",
   "execution_count": 4,
   "metadata": {},
   "outputs": [],
   "source": [
    "#Kütüphanelerin yüklenmesi\n",
    "import snscrape.modules.twitter as sntw\n",
    "import pandas as pd\n",
    "import numpy as np\n",
    "#import nltk\n",
    "from sklearn.model_selection import train_test_split,cross_val_score\n",
    "from sklearn import preprocessing\n",
    "from sklearn.feature_extraction.text import CountVectorizer\n",
    "from sklearn.linear_model import LogisticRegression\n",
    "from sklearn.metrics import precision_score, recall_score, fbeta_score, confusion_matrix"
   ]
  },
  {
   "cell_type": "code",
   "execution_count": 5,
   "metadata": {},
   "outputs": [],
   "source": [
    "#Twitterdan veri çekmek için kullanılan fonksiyon\n",
    "#Verilen username'in hesabına girerek max_news sayısı kadar tweet çeker.\n",
    "def scrape_news(username,max_news):\n",
    "    text=[]\n",
    "    for i,tw in enumerate(sntw.TwitterSearchScraper('from:@'+username).get_items()):\n",
    "        if i >max_news:\n",
    "            break\n",
    "        index = tw.content.find(\"http\")\n",
    "        text.append(tw.content[:index])\n",
    "    text=pd.DataFrame(text,columns=[\"News\"])\n",
    "    return text"
   ]
  },
  {
   "cell_type": "code",
   "execution_count": 6,
   "metadata": {},
   "outputs": [],
   "source": [
    "#Çekilen verilere preprocessing işlemleri yapan fonksiyon\n",
    "#Bütün harfleri küçültür,noktalama işaretlerini ve sayıları kaldırır.\n",
    "def preprocessingg(text):\n",
    "    text[\"News\"]=text[\"News\"].apply(lambda x: \" \".join(x.lower() for x in x.split()))\n",
    "    text[\"News\"]=text[\"News\"].str.replace(\"[^\\w\\s]\",\"\")\n",
    "    text[\"News\"]=text[\"News\"].str.replace(\"[\\d]\",\"\")\n",
    "    return text"
   ]
  },
  {
   "cell_type": "code",
   "execution_count": 7,
   "metadata": {},
   "outputs": [],
   "source": [
    "#Çekilen verileri bilgisayara csv dosyası olarak kaydeder\n",
    "def save_news(text,file_name):\n",
    "    text.to_csv(file_name,encoding=\"utf-16\",index=False)"
   ]
  },
  {
   "cell_type": "code",
   "execution_count": 8,
   "metadata": {},
   "outputs": [],
   "source": [
    "#Çekilen doğru ve yanlış haberleri tek bir veri setinde birleştirir ve doğrulara 1 yanlışlara 0 etiketi verir.\n",
    "def data(real_news,fake_news):\n",
    "    real_news[\"label\"]=1\n",
    "    fake_news[\"label\"]=0\n",
    "    Data=pd.concat([real_news,fake_news],axis=0,ignore_index=True)\n",
    "    return Data"
   ]
  },
  {
   "cell_type": "code",
   "execution_count": 9,
   "metadata": {},
   "outputs": [],
   "source": [
    "#Hazırlanan veri setini countvector yöntemiyle sayısal değerlere çevirir\n",
    "#Countvector metodu: Veri setindeki her kelimeyi özellik olarak ayarlar ve hangi metinde kaç tane geçtiğini hesaplar \n",
    "#bir array oluşturur\n",
    "def count_vector(trainsetinput,testsetinput):\n",
    "    vectorizer=CountVectorizer()\n",
    "    vectorizer.fit(trainsetinput)\n",
    "    x_train_c=vectorizer.transform(trainsetinput)\n",
    "    x_test_c=vectorizer.transform(testsetinput)\n",
    "    return x_train_c,x_test_c"
   ]
  },
  {
   "cell_type": "code",
   "execution_count": 10,
   "metadata": {},
   "outputs": [],
   "source": [
    "#Countvector ile dönüştürülen veriyi alıp makine öğrenmesine sokar\n",
    "#Eğitim seti ile öğrenir test seti ile sınar\n",
    "#Test seti tahminleri ile gerçek değerleri karşılaştırarak confusion_matrix,precision_score,recall_score,\n",
    "#fbeta_scoree ve accuracy'i hesaplar\n",
    "def log_reg(trainsetinput,trainsetoutput,testsetinput,testsetoutput):\n",
    "    loj=LogisticRegression()\n",
    "    loj_model=loj.fit(trainsetinput,trainsetoutput)\n",
    "    test_predict=loj_model.predict(testsetinput)\n",
    "    confusion_matrixx=confusion_matrix(testsetoutput, test_predict)\n",
    "    precision_scoree=precision_score(testsetoutput, test_predict)\n",
    "    recall_scoree=recall_score(testsetoutput, test_predict)\n",
    "    fbeta_scoree=fbeta_score(testsetoutput, test_predict, beta=1)\n",
    "    acc=cross_val_score(loj_model,testsetinput,testsetoutput,cv=10).mean()\n",
    "    return loj_model,confusion_matrixx,precision_scoree,recall_scoree,fbeta_scoree,acc"
   ]
  },
  {
   "cell_type": "code",
   "execution_count": 11,
   "metadata": {},
   "outputs": [],
   "source": [
    "#Öğrenmiş olan modele yeni bir haber geldiğinde tahmin ettirir\n",
    "def predictt(model,new,x_train):\n",
    "    new_seri=pd.Series(new[\"News\"])\n",
    "    vectorizer=CountVectorizer()\n",
    "    vectorizer.fit(x_train)\n",
    "    new_seri=vectorizer.transform(new_seri)\n",
    "    label=model.predict(new_seri)\n",
    "    new[\"label\"]=label\n",
    "    return new"
   ]
  },
  {
   "cell_type": "code",
   "execution_count": 12,
   "metadata": {},
   "outputs": [],
   "source": [
    "#text=scrape_news('trthaber',1000)"
   ]
  },
  {
   "cell_type": "code",
   "execution_count": 13,
   "metadata": {},
   "outputs": [],
   "source": [
    "#text_p=preprocessingg(text)"
   ]
  },
  {
   "cell_type": "code",
   "execution_count": 14,
   "metadata": {},
   "outputs": [],
   "source": [
    "#text2=scrape_news('zaytung',1000)"
   ]
  },
  {
   "cell_type": "code",
   "execution_count": 15,
   "metadata": {},
   "outputs": [],
   "source": [
    "#text_p2=preprocessingg(text2)"
   ]
  },
  {
   "cell_type": "code",
   "execution_count": 16,
   "metadata": {},
   "outputs": [],
   "source": [
    "#Data=data(text_p,text_p2)"
   ]
  },
  {
   "cell_type": "code",
   "execution_count": 17,
   "metadata": {},
   "outputs": [],
   "source": [
    "#save_news(Data,\"Data.csv\")"
   ]
  },
  {
   "cell_type": "code",
   "execution_count": null,
   "metadata": {},
   "outputs": [],
   "source": [
    "#Çektiğim verileri kaydettim her seferinde farklı veri çekmeyip kayıtlı veriler üzerinde çalıştım."
   ]
  },
  {
   "cell_type": "code",
   "execution_count": 18,
   "metadata": {},
   "outputs": [],
   "source": [
    "Saved_Data=pd.read_csv(\"Data.csv\",encoding=\"utf-16\")"
   ]
  },
  {
   "cell_type": "code",
   "execution_count": 19,
   "metadata": {},
   "outputs": [
    {
     "data": {
      "text/html": [
       "<div>\n",
       "<style scoped>\n",
       "    .dataframe tbody tr th:only-of-type {\n",
       "        vertical-align: middle;\n",
       "    }\n",
       "\n",
       "    .dataframe tbody tr th {\n",
       "        vertical-align: top;\n",
       "    }\n",
       "\n",
       "    .dataframe thead th {\n",
       "        text-align: right;\n",
       "    }\n",
       "</style>\n",
       "<table border=\"1\" class=\"dataframe\">\n",
       "  <thead>\n",
       "    <tr style=\"text-align: right;\">\n",
       "      <th></th>\n",
       "      <th>News</th>\n",
       "      <th>label</th>\n",
       "    </tr>\n",
       "  </thead>\n",
       "  <tbody>\n",
       "    <tr>\n",
       "      <th>0</th>\n",
       "      <td>gözler  yılının aralık ayı enflasyon oranında ...</td>\n",
       "      <td>1</td>\n",
       "    </tr>\n",
       "    <tr>\n",
       "      <th>1</th>\n",
       "      <td>barış pınarı bölgesine sızma girişiminde bulun...</td>\n",
       "      <td>1</td>\n",
       "    </tr>\n",
       "    <tr>\n",
       "      <th>2</th>\n",
       "      <td>istanbulda gün doğumu fotofokusta</td>\n",
       "      <td>1</td>\n",
       "    </tr>\n",
       "    <tr>\n",
       "      <th>3</th>\n",
       "      <td>abdnin michigan eyaletinde küçük bir uçak evin...</td>\n",
       "      <td>1</td>\n",
       "    </tr>\n",
       "    <tr>\n",
       "      <th>4</th>\n",
       "      <td>van bitlis muş ve hakkari için çığ buzlanma do...</td>\n",
       "      <td>1</td>\n",
       "    </tr>\n",
       "  </tbody>\n",
       "</table>\n",
       "</div>"
      ],
      "text/plain": [
       "                                                News  label\n",
       "0  gözler  yılının aralık ayı enflasyon oranında ...      1\n",
       "1  barış pınarı bölgesine sızma girişiminde bulun...      1\n",
       "2                  istanbulda gün doğumu fotofokusta      1\n",
       "3  abdnin michigan eyaletinde küçük bir uçak evin...      1\n",
       "4  van bitlis muş ve hakkari için çığ buzlanma do...      1"
      ]
     },
     "execution_count": 19,
     "metadata": {},
     "output_type": "execute_result"
    }
   ],
   "source": [
    "Saved_Data.head()"
   ]
  },
  {
   "cell_type": "code",
   "execution_count": 20,
   "metadata": {},
   "outputs": [
    {
     "data": {
      "text/html": [
       "<div>\n",
       "<style scoped>\n",
       "    .dataframe tbody tr th:only-of-type {\n",
       "        vertical-align: middle;\n",
       "    }\n",
       "\n",
       "    .dataframe tbody tr th {\n",
       "        vertical-align: top;\n",
       "    }\n",
       "\n",
       "    .dataframe thead th {\n",
       "        text-align: right;\n",
       "    }\n",
       "</style>\n",
       "<table border=\"1\" class=\"dataframe\">\n",
       "  <thead>\n",
       "    <tr style=\"text-align: right;\">\n",
       "      <th></th>\n",
       "      <th>News</th>\n",
       "      <th>label</th>\n",
       "    </tr>\n",
       "  </thead>\n",
       "  <tbody>\n",
       "    <tr>\n",
       "      <th>1997</th>\n",
       "      <td>yargıda önemli reform tutukluluk kararı çıkmas...</td>\n",
       "      <td>0</td>\n",
       "    </tr>\n",
       "    <tr>\n",
       "      <th>1998</th>\n",
       "      <td>fotohaber  türkiye merakla o soruşturmanın son...</td>\n",
       "      <td>0</td>\n",
       "    </tr>\n",
       "    <tr>\n",
       "      <th>1999</th>\n",
       "      <td>videohaber  seydioğlu baklavaları tam diğer ba...</td>\n",
       "      <td>0</td>\n",
       "    </tr>\n",
       "    <tr>\n",
       "      <th>2000</th>\n",
       "      <td>görevden alınan merkez bankası başkanı murat ç...</td>\n",
       "      <td>0</td>\n",
       "    </tr>\n",
       "    <tr>\n",
       "      <th>2001</th>\n",
       "      <td>canon d için en iyi monteyi yapacak photoshop ...</td>\n",
       "      <td>0</td>\n",
       "    </tr>\n",
       "  </tbody>\n",
       "</table>\n",
       "</div>"
      ],
      "text/plain": [
       "                                                   News  label\n",
       "1997  yargıda önemli reform tutukluluk kararı çıkmas...      0\n",
       "1998  fotohaber  türkiye merakla o soruşturmanın son...      0\n",
       "1999  videohaber  seydioğlu baklavaları tam diğer ba...      0\n",
       "2000  görevden alınan merkez bankası başkanı murat ç...      0\n",
       "2001  canon d için en iyi monteyi yapacak photoshop ...      0"
      ]
     },
     "execution_count": 20,
     "metadata": {},
     "output_type": "execute_result"
    }
   ],
   "source": [
    "Saved_Data.tail()"
   ]
  },
  {
   "cell_type": "code",
   "execution_count": 21,
   "metadata": {},
   "outputs": [],
   "source": [
    "#Hazırladığım veri setini train ve test olarak ayırıyoruz(0.75-0.25).\n",
    "x_train, x_test, y_train, y_test = train_test_split(Saved_Data[\"News\"],Saved_Data[\"label\"],test_size=0.25,random_state=42)"
   ]
  },
  {
   "cell_type": "code",
   "execution_count": 22,
   "metadata": {},
   "outputs": [],
   "source": [
    "#0-1 olan çıktı değerlerini kategoriye çeviriyoruz\n",
    "encoder=preprocessing.LabelEncoder()\n",
    "y_train2=encoder.fit_transform(y_train)\n",
    "y_test2=encoder.fit_transform(y_test)"
   ]
  },
  {
   "cell_type": "code",
   "execution_count": 25,
   "metadata": {},
   "outputs": [],
   "source": [
    "#Countvector işlemi\n",
    "x_train_c,x_test_c=count_vector(x_train,x_test)"
   ]
  },
  {
   "cell_type": "code",
   "execution_count": 26,
   "metadata": {},
   "outputs": [
    {
     "data": {
      "text/plain": [
       "array([[0, 0, 0, ..., 0, 0, 0],\n",
       "       [0, 0, 0, ..., 0, 0, 0],\n",
       "       [0, 0, 0, ..., 0, 0, 0],\n",
       "       ...,\n",
       "       [0, 0, 0, ..., 0, 0, 0],\n",
       "       [0, 0, 0, ..., 0, 0, 0],\n",
       "       [0, 0, 0, ..., 0, 0, 0]], dtype=int64)"
      ]
     },
     "execution_count": 26,
     "metadata": {},
     "output_type": "execute_result"
    }
   ],
   "source": [
    "x_train_c.toarray()"
   ]
  },
  {
   "cell_type": "code",
   "execution_count": 27,
   "metadata": {},
   "outputs": [
    {
     "data": {
      "text/plain": [
       "array([[0, 0, 0, ..., 0, 0, 0],\n",
       "       [0, 0, 0, ..., 0, 0, 0],\n",
       "       [0, 0, 0, ..., 0, 0, 0],\n",
       "       ...,\n",
       "       [0, 0, 0, ..., 0, 0, 0],\n",
       "       [0, 0, 0, ..., 0, 0, 0],\n",
       "       [0, 0, 0, ..., 0, 0, 0]], dtype=int64)"
      ]
     },
     "execution_count": 27,
     "metadata": {},
     "output_type": "execute_result"
    }
   ],
   "source": [
    "x_test_c.toarray()"
   ]
  },
  {
   "cell_type": "code",
   "execution_count": 28,
   "metadata": {},
   "outputs": [
    {
     "name": "stderr",
     "output_type": "stream",
     "text": [
      "C:\\ProgramData\\Anaconda3\\lib\\site-packages\\sklearn\\linear_model\\logistic.py:432: FutureWarning: Default solver will be changed to 'lbfgs' in 0.22. Specify a solver to silence this warning.\n",
      "  FutureWarning)\n",
      "C:\\ProgramData\\Anaconda3\\lib\\site-packages\\sklearn\\linear_model\\logistic.py:432: FutureWarning: Default solver will be changed to 'lbfgs' in 0.22. Specify a solver to silence this warning.\n",
      "  FutureWarning)\n"
     ]
    }
   ],
   "source": [
    "loj_model,confusion_matrix,precision_score,recall_score,fbeta_score,acc=log_reg(x_train_c,y_train2,x_test_c,y_test2)"
   ]
  },
  {
   "cell_type": "code",
   "execution_count": 29,
   "metadata": {},
   "outputs": [
    {
     "data": {
      "text/plain": [
       "0.8725266106442577"
      ]
     },
     "execution_count": 29,
     "metadata": {},
     "output_type": "execute_result"
    }
   ],
   "source": [
    "acc"
   ]
  },
  {
   "cell_type": "code",
   "execution_count": 30,
   "metadata": {},
   "outputs": [
    {
     "data": {
      "text/plain": [
       "array([[206,  32],\n",
       "       [  9, 254]], dtype=int64)"
      ]
     },
     "execution_count": 30,
     "metadata": {},
     "output_type": "execute_result"
    }
   ],
   "source": [
    "confusion_matrix"
   ]
  },
  {
   "cell_type": "code",
   "execution_count": 31,
   "metadata": {},
   "outputs": [
    {
     "data": {
      "text/plain": [
       "0.8881118881118881"
      ]
     },
     "execution_count": 31,
     "metadata": {},
     "output_type": "execute_result"
    }
   ],
   "source": [
    "precision_score"
   ]
  },
  {
   "cell_type": "code",
   "execution_count": 32,
   "metadata": {},
   "outputs": [
    {
     "data": {
      "text/plain": [
       "0.9657794676806084"
      ]
     },
     "execution_count": 32,
     "metadata": {},
     "output_type": "execute_result"
    }
   ],
   "source": [
    "recall_score"
   ]
  },
  {
   "cell_type": "code",
   "execution_count": 33,
   "metadata": {},
   "outputs": [
    {
     "data": {
      "text/plain": [
       "0.9253187613843352"
      ]
     },
     "execution_count": 33,
     "metadata": {},
     "output_type": "execute_result"
    }
   ],
   "source": [
    "fbeta_score"
   ]
  },
  {
   "cell_type": "code",
   "execution_count": 34,
   "metadata": {},
   "outputs": [],
   "source": [
    "new_data=scrape_news('gazetesozcu',10)"
   ]
  },
  {
   "cell_type": "code",
   "execution_count": 35,
   "metadata": {},
   "outputs": [],
   "source": [
    "new_data=preprocessingg(new_data)"
   ]
  },
  {
   "cell_type": "code",
   "execution_count": 36,
   "metadata": {},
   "outputs": [
    {
     "data": {
      "text/html": [
       "<div>\n",
       "<style scoped>\n",
       "    .dataframe tbody tr th:only-of-type {\n",
       "        vertical-align: middle;\n",
       "    }\n",
       "\n",
       "    .dataframe tbody tr th {\n",
       "        vertical-align: top;\n",
       "    }\n",
       "\n",
       "    .dataframe thead th {\n",
       "        text-align: right;\n",
       "    }\n",
       "</style>\n",
       "<table border=\"1\" class=\"dataframe\">\n",
       "  <thead>\n",
       "    <tr style=\"text-align: right;\">\n",
       "      <th></th>\n",
       "      <th>News</th>\n",
       "    </tr>\n",
       "  </thead>\n",
       "  <tbody>\n",
       "    <tr>\n",
       "      <th>0</th>\n",
       "      <td>serpil yılmaz yazdı yargıda yahudi düşmanlığı ...</td>\n",
       "    </tr>\n",
       "    <tr>\n",
       "      <th>1</th>\n",
       "      <td>yeni asgari ücret çalışana ve işverene nasıl y...</td>\n",
       "    </tr>\n",
       "    <tr>\n",
       "      <th>2</th>\n",
       "      <td>aytunç erkin yazdı diskin yeni kitabı özal ve ...</td>\n",
       "    </tr>\n",
       "    <tr>\n",
       "      <th>3</th>\n",
       "      <td>ege cansen yazdı tarımda kendi kendine yeterlilik</td>\n",
       "    </tr>\n",
       "    <tr>\n",
       "      <th>4</th>\n",
       "      <td>ismail saymaz yazdı erdoğan sözlerin sahibinde...</td>\n",
       "    </tr>\n",
       "    <tr>\n",
       "      <th>5</th>\n",
       "      <td>saygı öztürk yazdı ülkemize yazık ediyorsunuz</td>\n",
       "    </tr>\n",
       "    <tr>\n",
       "      <th>6</th>\n",
       "      <td>necati doğru yazdı her insanın duygularını düş...</td>\n",
       "    </tr>\n",
       "    <tr>\n",
       "      <th>7</th>\n",
       "      <td>rahmi turan yazdı sözcünün değişmez ilkeleri a...</td>\n",
       "    </tr>\n",
       "    <tr>\n",
       "      <th>8</th>\n",
       "      <td>uğur dündar yazdı sıcak ekmek kokusu ve adalet</td>\n",
       "    </tr>\n",
       "    <tr>\n",
       "      <th>9</th>\n",
       "      <td>iran süleymaninin intikamını alacağız</td>\n",
       "    </tr>\n",
       "    <tr>\n",
       "      <th>10</th>\n",
       "      <td>gündür aranan kadın ölü olarak bulundu</td>\n",
       "    </tr>\n",
       "  </tbody>\n",
       "</table>\n",
       "</div>"
      ],
      "text/plain": [
       "                                                 News\n",
       "0   serpil yılmaz yazdı yargıda yahudi düşmanlığı ...\n",
       "1   yeni asgari ücret çalışana ve işverene nasıl y...\n",
       "2   aytunç erkin yazdı diskin yeni kitabı özal ve ...\n",
       "3   ege cansen yazdı tarımda kendi kendine yeterlilik\n",
       "4   ismail saymaz yazdı erdoğan sözlerin sahibinde...\n",
       "5       saygı öztürk yazdı ülkemize yazık ediyorsunuz\n",
       "6   necati doğru yazdı her insanın duygularını düş...\n",
       "7   rahmi turan yazdı sözcünün değişmez ilkeleri a...\n",
       "8      uğur dündar yazdı sıcak ekmek kokusu ve adalet\n",
       "9               iran süleymaninin intikamını alacağız\n",
       "10             gündür aranan kadın ölü olarak bulundu"
      ]
     },
     "execution_count": 36,
     "metadata": {},
     "output_type": "execute_result"
    }
   ],
   "source": [
    "new_data"
   ]
  },
  {
   "cell_type": "code",
   "execution_count": 38,
   "metadata": {},
   "outputs": [],
   "source": [
    "new_data_pretict=predictt(loj_model,new_data,x_train)"
   ]
  },
  {
   "cell_type": "code",
   "execution_count": 39,
   "metadata": {},
   "outputs": [
    {
     "data": {
      "text/html": [
       "<div>\n",
       "<style scoped>\n",
       "    .dataframe tbody tr th:only-of-type {\n",
       "        vertical-align: middle;\n",
       "    }\n",
       "\n",
       "    .dataframe tbody tr th {\n",
       "        vertical-align: top;\n",
       "    }\n",
       "\n",
       "    .dataframe thead th {\n",
       "        text-align: right;\n",
       "    }\n",
       "</style>\n",
       "<table border=\"1\" class=\"dataframe\">\n",
       "  <thead>\n",
       "    <tr style=\"text-align: right;\">\n",
       "      <th></th>\n",
       "      <th>News</th>\n",
       "      <th>label</th>\n",
       "    </tr>\n",
       "  </thead>\n",
       "  <tbody>\n",
       "    <tr>\n",
       "      <th>0</th>\n",
       "      <td>serpil yılmaz yazdı yargıda yahudi düşmanlığı ...</td>\n",
       "      <td>1</td>\n",
       "    </tr>\n",
       "    <tr>\n",
       "      <th>1</th>\n",
       "      <td>yeni asgari ücret çalışana ve işverene nasıl y...</td>\n",
       "      <td>1</td>\n",
       "    </tr>\n",
       "    <tr>\n",
       "      <th>2</th>\n",
       "      <td>aytunç erkin yazdı diskin yeni kitabı özal ve ...</td>\n",
       "      <td>1</td>\n",
       "    </tr>\n",
       "    <tr>\n",
       "      <th>3</th>\n",
       "      <td>ege cansen yazdı tarımda kendi kendine yeterlilik</td>\n",
       "      <td>1</td>\n",
       "    </tr>\n",
       "    <tr>\n",
       "      <th>4</th>\n",
       "      <td>ismail saymaz yazdı erdoğan sözlerin sahibinde...</td>\n",
       "      <td>1</td>\n",
       "    </tr>\n",
       "    <tr>\n",
       "      <th>5</th>\n",
       "      <td>saygı öztürk yazdı ülkemize yazık ediyorsunuz</td>\n",
       "      <td>1</td>\n",
       "    </tr>\n",
       "    <tr>\n",
       "      <th>6</th>\n",
       "      <td>necati doğru yazdı her insanın duygularını düş...</td>\n",
       "      <td>1</td>\n",
       "    </tr>\n",
       "    <tr>\n",
       "      <th>7</th>\n",
       "      <td>rahmi turan yazdı sözcünün değişmez ilkeleri a...</td>\n",
       "      <td>1</td>\n",
       "    </tr>\n",
       "    <tr>\n",
       "      <th>8</th>\n",
       "      <td>uğur dündar yazdı sıcak ekmek kokusu ve adalet</td>\n",
       "      <td>1</td>\n",
       "    </tr>\n",
       "    <tr>\n",
       "      <th>9</th>\n",
       "      <td>iran süleymaninin intikamını alacağız</td>\n",
       "      <td>1</td>\n",
       "    </tr>\n",
       "    <tr>\n",
       "      <th>10</th>\n",
       "      <td>gündür aranan kadın ölü olarak bulundu</td>\n",
       "      <td>0</td>\n",
       "    </tr>\n",
       "  </tbody>\n",
       "</table>\n",
       "</div>"
      ],
      "text/plain": [
       "                                                 News  label\n",
       "0   serpil yılmaz yazdı yargıda yahudi düşmanlığı ...      1\n",
       "1   yeni asgari ücret çalışana ve işverene nasıl y...      1\n",
       "2   aytunç erkin yazdı diskin yeni kitabı özal ve ...      1\n",
       "3   ege cansen yazdı tarımda kendi kendine yeterlilik      1\n",
       "4   ismail saymaz yazdı erdoğan sözlerin sahibinde...      1\n",
       "5       saygı öztürk yazdı ülkemize yazık ediyorsunuz      1\n",
       "6   necati doğru yazdı her insanın duygularını düş...      1\n",
       "7   rahmi turan yazdı sözcünün değişmez ilkeleri a...      1\n",
       "8      uğur dündar yazdı sıcak ekmek kokusu ve adalet      1\n",
       "9               iran süleymaninin intikamını alacağız      1\n",
       "10             gündür aranan kadın ölü olarak bulundu      0"
      ]
     },
     "execution_count": 39,
     "metadata": {},
     "output_type": "execute_result"
    }
   ],
   "source": [
    "new_data_pretict"
   ]
  }
 ],
 "metadata": {
  "kernelspec": {
   "display_name": "Python 3",
   "language": "python",
   "name": "python3"
  },
  "language_info": {
   "codemirror_mode": {
    "name": "ipython",
    "version": 3
   },
   "file_extension": ".py",
   "mimetype": "text/x-python",
   "name": "python",
   "nbconvert_exporter": "python",
   "pygments_lexer": "ipython3",
   "version": "3.7.3"
  }
 },
 "nbformat": 4,
 "nbformat_minor": 2
}
